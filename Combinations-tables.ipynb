{
 "cells": [
  {
   "cell_type": "code",
   "execution_count": 151,
   "id": "0cd6c8d7",
   "metadata": {},
   "outputs": [],
   "source": [
    "import numpy as np\n",
    "import pandas as pd\n",
    "\n",
    "import random\n",
    "import string\n",
    "\n",
    "import itertools\n",
    "from itertools import permutations\n",
    "from itertools import combinations\n",
    "\n",
    "import math"
   ]
  },
  {
   "cell_type": "code",
   "execution_count": 2,
   "id": "329a9f2b",
   "metadata": {},
   "outputs": [],
   "source": [
    "from kmodes.kmodes import KModes"
   ]
  },
  {
   "cell_type": "code",
   "execution_count": 3,
   "id": "2bfb3d03",
   "metadata": {},
   "outputs": [],
   "source": [
    "# data = {\n",
    "#     'Greg':['no','Maudet','Dauphine'],\n",
    "#     'Audrey':['no','Maudet','Dauphine'],\n",
    "#     'Nabil':['yes','S','Finance'],\n",
    "#     'Clélia':['yes','S','-'],\n",
    "#     'Livie':['no','LivieJu','-'],\n",
    "#     'Julien':['no','LivieJu','-'],\n",
    "#     'Mag':['no','Martin','FamilleGael'],\n",
    "#     'Fab':['no','Martin','FamilleGael'],\n",
    "#     'Val':['no','Valex','FamilleGael'],\n",
    "#     'Alex':['no','Valex','FamilleGael']\n",
    "# }"
   ]
  },
  {
   "cell_type": "code",
   "execution_count": 4,
   "id": "ae155f48",
   "metadata": {},
   "outputs": [],
   "source": [
    "# data = {\n",
    "#     'Papa':['yes','yes','Savoure','-'],\n",
    "#     'Maman':['yes','yes','Savoure','-'],\n",
    "#     'Marion':['yes','yes','S','-'],\n",
    "#     'Bruno':['yes','yes','S','-'],\n",
    "# }"
   ]
  },
  {
   "cell_type": "code",
   "execution_count": 132,
   "id": "0a410080",
   "metadata": {},
   "outputs": [
    {
     "data": {
      "text/html": [
       "<div>\n",
       "<style scoped>\n",
       "    .dataframe tbody tr th:only-of-type {\n",
       "        vertical-align: middle;\n",
       "    }\n",
       "\n",
       "    .dataframe tbody tr th {\n",
       "        vertical-align: top;\n",
       "    }\n",
       "\n",
       "    .dataframe thead th {\n",
       "        text-align: right;\n",
       "    }\n",
       "</style>\n",
       "<table border=\"1\" class=\"dataframe\">\n",
       "  <thead>\n",
       "    <tr style=\"text-align: right;\">\n",
       "      <th></th>\n",
       "      <th>Couple</th>\n",
       "      <th>Vieux</th>\n",
       "      <th>Groupe d'affinités 1</th>\n",
       "      <th>Groupe d'affinités 2</th>\n",
       "    </tr>\n",
       "  </thead>\n",
       "  <tbody>\n",
       "    <tr>\n",
       "      <th>NabilLahmek</th>\n",
       "      <td>-</td>\n",
       "      <td>non</td>\n",
       "      <td>-</td>\n",
       "      <td>nab_aud_gre</td>\n",
       "    </tr>\n",
       "    <tr>\n",
       "      <th>FlorentBesse</th>\n",
       "      <td>-</td>\n",
       "      <td>non</td>\n",
       "      <td>scouts</td>\n",
       "      <td>-</td>\n",
       "    </tr>\n",
       "    <tr>\n",
       "      <th>XavierAuffray</th>\n",
       "      <td>xav_mar</td>\n",
       "      <td>non</td>\n",
       "      <td>scouts</td>\n",
       "      <td>-</td>\n",
       "    </tr>\n",
       "  </tbody>\n",
       "</table>\n",
       "</div>"
      ],
      "text/plain": [
       "                Couple Vieux Groupe d'affinités 1 Groupe d'affinités 2\n",
       "NabilLahmek          -   non                    -          nab_aud_gre\n",
       "FlorentBesse         -   non               scouts                    -\n",
       "XavierAuffray  xav_mar   non               scouts                    -"
      ]
     },
     "execution_count": 132,
     "metadata": {},
     "output_type": "execute_result"
    }
   ],
   "source": [
    "df = pd.read_csv('/Users/gaelsavoure/Downloads/Algo - amis_familles.csv', header=None)\n",
    "poids = [int(x) for x in df.loc[0].values[2:]]\n",
    "columns = list(df.loc[1].values[2:])\n",
    "df = df.iloc[2:]\n",
    "df['Nom'] = df[0]+df[1]\n",
    "df = df.drop(columns=[0,1])\n",
    "df = df.set_index('Nom')\n",
    "df.index.name = None\n",
    "df.columns = columns\n",
    "df.head(3)"
   ]
  },
  {
   "cell_type": "code",
   "execution_count": 152,
   "id": "312438fe",
   "metadata": {},
   "outputs": [
    {
     "name": "stdout",
     "output_type": "stream",
     "text": [
      "Number of tables should be approximately 14\n"
     ]
    }
   ],
   "source": [
    "print('Number of tables should be approximately {}'.format(math.ceil(df.shape[0]/10)))"
   ]
  },
  {
   "cell_type": "code",
   "execution_count": 133,
   "id": "36af250d",
   "metadata": {},
   "outputs": [],
   "source": [
    "def generate_random_string(length=2):\n",
    "    characters = string.ascii_letters + string.digits\n",
    "    return ''.join(random.choice(characters) for _ in range(length))"
   ]
  },
  {
   "cell_type": "code",
   "execution_count": 134,
   "id": "aff02130",
   "metadata": {},
   "outputs": [],
   "source": [
    "df_fill = df.copy()"
   ]
  },
  {
   "cell_type": "code",
   "execution_count": 135,
   "id": "0a3b74a2",
   "metadata": {},
   "outputs": [],
   "source": [
    "# Create a set to store generated random strings\n",
    "random_strings_set = set()\n",
    "\n",
    "for column in df.columns:\n",
    "    for idx, value in df[column].items():\n",
    "        if value == \"-\":\n",
    "            # Generate a random string that is not in the set\n",
    "            new_random_string = generate_random_string()\n",
    "            while new_random_string in random_strings_set:\n",
    "                new_random_string = generate_random_string()\n",
    "\n",
    "            # Replace the \"-\" cell with the new random string\n",
    "            df_fill.at[idx, column] = new_random_string\n",
    "            random_strings_set.add(new_random_string)"
   ]
  },
  {
   "cell_type": "code",
   "execution_count": 136,
   "id": "2247d89d",
   "metadata": {},
   "outputs": [
    {
     "data": {
      "text/html": [
       "<div>\n",
       "<style scoped>\n",
       "    .dataframe tbody tr th:only-of-type {\n",
       "        vertical-align: middle;\n",
       "    }\n",
       "\n",
       "    .dataframe tbody tr th {\n",
       "        vertical-align: top;\n",
       "    }\n",
       "\n",
       "    .dataframe thead th {\n",
       "        text-align: right;\n",
       "    }\n",
       "</style>\n",
       "<table border=\"1\" class=\"dataframe\">\n",
       "  <thead>\n",
       "    <tr style=\"text-align: right;\">\n",
       "      <th></th>\n",
       "      <th>Couple</th>\n",
       "      <th>Vieux</th>\n",
       "      <th>Groupe d'affinités 1</th>\n",
       "      <th>Groupe d'affinités 2</th>\n",
       "    </tr>\n",
       "  </thead>\n",
       "  <tbody>\n",
       "    <tr>\n",
       "      <th>NabilLahmek</th>\n",
       "      <td>Yd</td>\n",
       "      <td>non</td>\n",
       "      <td>w2</td>\n",
       "      <td>nab_aud_gre</td>\n",
       "    </tr>\n",
       "    <tr>\n",
       "      <th>FlorentBesse</th>\n",
       "      <td>Ju</td>\n",
       "      <td>non</td>\n",
       "      <td>scouts</td>\n",
       "      <td>GB</td>\n",
       "    </tr>\n",
       "    <tr>\n",
       "      <th>XavierAuffray</th>\n",
       "      <td>xav_mar</td>\n",
       "      <td>non</td>\n",
       "      <td>scouts</td>\n",
       "      <td>zW</td>\n",
       "    </tr>\n",
       "    <tr>\n",
       "      <th>MarionAuffray</th>\n",
       "      <td>xav_mar</td>\n",
       "      <td>non</td>\n",
       "      <td>scouts</td>\n",
       "      <td>Ka</td>\n",
       "    </tr>\n",
       "    <tr>\n",
       "      <th>FrançoisPinget</th>\n",
       "      <td>2J</td>\n",
       "      <td>non</td>\n",
       "      <td>scouts</td>\n",
       "      <td>lf</td>\n",
       "    </tr>\n",
       "  </tbody>\n",
       "</table>\n",
       "</div>"
      ],
      "text/plain": [
       "                 Couple Vieux Groupe d'affinités 1 Groupe d'affinités 2\n",
       "NabilLahmek          Yd   non                   w2          nab_aud_gre\n",
       "FlorentBesse         Ju   non               scouts                   GB\n",
       "XavierAuffray   xav_mar   non               scouts                   zW\n",
       "MarionAuffray   xav_mar   non               scouts                   Ka\n",
       "FrançoisPinget       2J   non               scouts                   lf"
      ]
     },
     "execution_count": 136,
     "metadata": {},
     "output_type": "execute_result"
    }
   ],
   "source": [
    "df_fill.head()"
   ]
  },
  {
   "cell_type": "code",
   "execution_count": 137,
   "id": "bc894509",
   "metadata": {},
   "outputs": [],
   "source": [
    "def duplicate_column(df, s, n):\n",
    "    if s not in df.columns:\n",
    "        raise ValueError(f\"Column '{s}' does not exist in the DataFrame.\")\n",
    "    \n",
    "    new_df = df.copy()\n",
    "    \n",
    "    for i in range(1, n):\n",
    "        new_column_name = f\"{s}_{i+1}\"\n",
    "        new_df[new_column_name] = df[s]\n",
    "    \n",
    "    return new_df"
   ]
  },
  {
   "cell_type": "code",
   "execution_count": 138,
   "id": "944858c3",
   "metadata": {},
   "outputs": [
    {
     "data": {
      "text/html": [
       "<div>\n",
       "<style scoped>\n",
       "    .dataframe tbody tr th:only-of-type {\n",
       "        vertical-align: middle;\n",
       "    }\n",
       "\n",
       "    .dataframe tbody tr th {\n",
       "        vertical-align: top;\n",
       "    }\n",
       "\n",
       "    .dataframe thead th {\n",
       "        text-align: right;\n",
       "    }\n",
       "</style>\n",
       "<table border=\"1\" class=\"dataframe\">\n",
       "  <thead>\n",
       "    <tr style=\"text-align: right;\">\n",
       "      <th></th>\n",
       "      <th>Couple</th>\n",
       "      <th>Vieux</th>\n",
       "      <th>Groupe d'affinités 1</th>\n",
       "      <th>Groupe d'affinités 2</th>\n",
       "      <th>Couple_2</th>\n",
       "      <th>Couple_3</th>\n",
       "      <th>Couple_4</th>\n",
       "      <th>Vieux_2</th>\n",
       "      <th>Vieux_3</th>\n",
       "      <th>Vieux_4</th>\n",
       "      <th>Groupe d'affinités 1_2</th>\n",
       "    </tr>\n",
       "  </thead>\n",
       "  <tbody>\n",
       "    <tr>\n",
       "      <th>NabilLahmek</th>\n",
       "      <td>Yd</td>\n",
       "      <td>non</td>\n",
       "      <td>w2</td>\n",
       "      <td>nab_aud_gre</td>\n",
       "      <td>Yd</td>\n",
       "      <td>Yd</td>\n",
       "      <td>Yd</td>\n",
       "      <td>non</td>\n",
       "      <td>non</td>\n",
       "      <td>non</td>\n",
       "      <td>w2</td>\n",
       "    </tr>\n",
       "    <tr>\n",
       "      <th>FlorentBesse</th>\n",
       "      <td>Ju</td>\n",
       "      <td>non</td>\n",
       "      <td>scouts</td>\n",
       "      <td>GB</td>\n",
       "      <td>Ju</td>\n",
       "      <td>Ju</td>\n",
       "      <td>Ju</td>\n",
       "      <td>non</td>\n",
       "      <td>non</td>\n",
       "      <td>non</td>\n",
       "      <td>scouts</td>\n",
       "    </tr>\n",
       "    <tr>\n",
       "      <th>XavierAuffray</th>\n",
       "      <td>xav_mar</td>\n",
       "      <td>non</td>\n",
       "      <td>scouts</td>\n",
       "      <td>zW</td>\n",
       "      <td>xav_mar</td>\n",
       "      <td>xav_mar</td>\n",
       "      <td>xav_mar</td>\n",
       "      <td>non</td>\n",
       "      <td>non</td>\n",
       "      <td>non</td>\n",
       "      <td>scouts</td>\n",
       "    </tr>\n",
       "    <tr>\n",
       "      <th>MarionAuffray</th>\n",
       "      <td>xav_mar</td>\n",
       "      <td>non</td>\n",
       "      <td>scouts</td>\n",
       "      <td>Ka</td>\n",
       "      <td>xav_mar</td>\n",
       "      <td>xav_mar</td>\n",
       "      <td>xav_mar</td>\n",
       "      <td>non</td>\n",
       "      <td>non</td>\n",
       "      <td>non</td>\n",
       "      <td>scouts</td>\n",
       "    </tr>\n",
       "    <tr>\n",
       "      <th>FrançoisPinget</th>\n",
       "      <td>2J</td>\n",
       "      <td>non</td>\n",
       "      <td>scouts</td>\n",
       "      <td>lf</td>\n",
       "      <td>2J</td>\n",
       "      <td>2J</td>\n",
       "      <td>2J</td>\n",
       "      <td>non</td>\n",
       "      <td>non</td>\n",
       "      <td>non</td>\n",
       "      <td>scouts</td>\n",
       "    </tr>\n",
       "  </tbody>\n",
       "</table>\n",
       "</div>"
      ],
      "text/plain": [
       "                 Couple Vieux Groupe d'affinités 1 Groupe d'affinités 2  \\\n",
       "NabilLahmek          Yd   non                   w2          nab_aud_gre   \n",
       "FlorentBesse         Ju   non               scouts                   GB   \n",
       "XavierAuffray   xav_mar   non               scouts                   zW   \n",
       "MarionAuffray   xav_mar   non               scouts                   Ka   \n",
       "FrançoisPinget       2J   non               scouts                   lf   \n",
       "\n",
       "               Couple_2 Couple_3 Couple_4 Vieux_2 Vieux_3 Vieux_4  \\\n",
       "NabilLahmek          Yd       Yd       Yd     non     non     non   \n",
       "FlorentBesse         Ju       Ju       Ju     non     non     non   \n",
       "XavierAuffray   xav_mar  xav_mar  xav_mar     non     non     non   \n",
       "MarionAuffray   xav_mar  xav_mar  xav_mar     non     non     non   \n",
       "FrançoisPinget       2J       2J       2J     non     non     non   \n",
       "\n",
       "               Groupe d'affinités 1_2  \n",
       "NabilLahmek                        w2  \n",
       "FlorentBesse                   scouts  \n",
       "XavierAuffray                  scouts  \n",
       "MarionAuffray                  scouts  \n",
       "FrançoisPinget                 scouts  "
      ]
     },
     "execution_count": 138,
     "metadata": {},
     "output_type": "execute_result"
    }
   ],
   "source": [
    "df_poids = df_fill.copy()\n",
    "for idx, column_name in enumerate(columns):\n",
    "    df_poids = duplicate_column(df_poids, column_name, poids[idx])\n",
    "df_poids.head()"
   ]
  },
  {
   "cell_type": "code",
   "execution_count": 12,
   "id": "130c4e3a",
   "metadata": {},
   "outputs": [],
   "source": [
    "# def group_cluster(cluster_sizes):\n",
    "#     combinations_indexes = list(itertools.combinations(enumerate(cluster_sizes), 2))\n",
    "#     for combination in combinations_indexes:\n",
    "#         combination_indexes = [x[0] for x in combination]\n",
    "#         combination_values = [x[1] for x in combination]\n",
    "#         if np.sum(combination_values)==10:\n",
    "#             cluster_sizes = [x for i, x in enumerate(cluster_sizes) if i not in combination_indexes]\n",
    "#             cluster_sizes.append(10)\n",
    "#             return cluster_sizes\n",
    "#     return cluster_sizes"
   ]
  },
  {
   "cell_type": "code",
   "execution_count": 168,
   "id": "b61a8448",
   "metadata": {},
   "outputs": [],
   "source": [
    "# clustering on big clusters\n",
    "def divide_cluster(df_clusters, highest_cluster_name):\n",
    "    n_clusters_start = len(df_clusters['cluster'].unique())\n",
    "    n_clusters_list = [n_clusters_start+i for i in range(1,6)]\n",
    "    df_clusters_divide = df_clusters.copy()\n",
    "    for n_clusters in n_clusters_list:\n",
    "        km = KModes(n_clusters=n_clusters, \n",
    "                    init='Huang',\n",
    "                    n_init=1, \n",
    "                    verbose=False,\n",
    "                    random_state=random_state)\n",
    "        clusters = km.fit_predict(df_clusters_divide)\n",
    "        cluster_sizes = df_clusters_divide.groupby('cluster').agg({'cluster':'count'})['cluster'].values\n",
    "        df_clusters_divide['cluster'] = km.labels_\n",
    "        if len(np.where(clusters_sizes>10)[0])>0:\n",
    "            continue\n",
    "        df_clusters_divide['clusters'] = df_clusters_divide['clusters']+np.max(highest_cluster_name)\n",
    "        return df_clusters_divide\n",
    "    print('Could not find smaller enough clusters')\n",
    "    return df_clusters"
   ]
  },
  {
   "cell_type": "code",
   "execution_count": 139,
   "id": "e181edd7",
   "metadata": {},
   "outputs": [],
   "source": [
    "# returns indexes of clusters that could be grouped because they sum to 10\n",
    "def find_combinations(cluster_sizes, target_sum=10):\n",
    "    result = []\n",
    "    for r in range(1, len(cluster_sizes) + 1):\n",
    "        combinations = list(itertools.combinations(enumerate(cluster_sizes), r))\n",
    "        for combination in combinations:\n",
    "            combination_indexes = [x[0] for x in combination]\n",
    "            combination_values = [x[1] for x in combination]\n",
    "            if sum(combination_values) == target_sum:\n",
    "                if len(combination_values)==1:\n",
    "                    continue\n",
    "                result.append(combination_indexes)\n",
    "    return result"
   ]
  },
  {
   "cell_type": "code",
   "execution_count": 140,
   "id": "0cb05a14",
   "metadata": {},
   "outputs": [],
   "source": [
    "# returns groups of clusters that have no cluster in common and that could be grouped together\n",
    "def find_unique_combinations(list_of_list_of_clusters):\n",
    "    result = []\n",
    "    for r in range(1, len(list_of_list_of_clusters) + 1):\n",
    "        for comb in combinations(list_of_list_of_clusters, r):\n",
    "            combined = []\n",
    "            for c in comb:\n",
    "                combined.extend(c)\n",
    "            # Check if the combined list has unique elements\n",
    "            if len(set(combined)) == len(combined):\n",
    "                result.append(list(comb))\n",
    "    return result"
   ]
  },
  {
   "cell_type": "code",
   "execution_count": 141,
   "id": "2e3f3a1d",
   "metadata": {},
   "outputs": [],
   "source": [
    "# returns best combination of clusters i.e the one that groups the most clusters\n",
    "def get_longest_list(list_of_list_of_clusters):\n",
    "    return max(list_of_list_of_clusters, key=len)"
   ]
  },
  {
   "cell_type": "code",
   "execution_count": 142,
   "id": "7cf29950",
   "metadata": {},
   "outputs": [],
   "source": [
    "# we give to all relevant clusters the same name as the first one from the group \n",
    "def group_clusters(df_clusters, best_combination):\n",
    "    for cluster_group in best_combination:\n",
    "        for cluster_name in cluster_group[1:]:\n",
    "            df_clusters.loc[df_clusters['cluster']==cluster_name,'cluster'] = cluster_group[0]\n",
    "    return df_clusters"
   ]
  },
  {
   "cell_type": "code",
   "execution_count": 159,
   "id": "67c717c5",
   "metadata": {},
   "outputs": [
    {
     "name": "stdout",
     "output_type": "stream",
     "text": [
      "\n",
      "best cluster sizes: None\n"
     ]
    }
   ],
   "source": [
    "df_clusters = df_poids.copy()\n",
    "n_run = 30\n",
    "n_clusters = 18 #len(np.unique(df_clusters['Groupe d\\'affinités 1']))\n",
    "found = False\n",
    "df_clusters_best = None\n",
    "best_sizes = None\n",
    "number_full_tables_opt = 0\n",
    "for random_state in np.arange(n_run):\n",
    "\n",
    "    km = KModes(n_clusters=n_clusters, \n",
    "                init='Huang',\n",
    "                n_init=1, \n",
    "                verbose=False,\n",
    "                random_state=random_state)\n",
    "    clusters = km.fit_predict(df_clusters)\n",
    "    #     print(km.cluster_centroids_) # person that \"represents\" the cluster\n",
    "    df_clusters['cluster'] = km.labels_\n",
    "    cluster_names = list(df_clusters.groupby('cluster').agg({'cluster':'count'})['cluster'].index)\n",
    "    cluster_sizes = df_clusters.groupby('cluster').agg({'cluster':'count'})['cluster'].values\n",
    "    if len([size for size in cluster_sizes if size > 10])!=0:\n",
    "        continue;\n",
    "\n",
    "    print('Found clusters with small sizes only...')\n",
    "    print(cluster_sizes)\n",
    "    \n",
    "    print('Finding all combinations that sum to 10...')\n",
    "    all_combinations_10 = find_combinations(cluster_sizes)\n",
    "    print('Finding all distinct combinations...')\n",
    "    all_combinations_10_unique = find_unique_combinations(all_combinations_10)\n",
    "    print('Finding the best combination...')\n",
    "    best_combination_indexes = get_longest_list(all_combinations_10_unique)\n",
    "    best_combination_names = best_combination_indexes.copy()\n",
    "    df_clusters_grouped_1 = group_clusters(df_clusters, best_combination_names)\n",
    "    cluster_sizes_grouped_1 = df_clusters.groupby('cluster').agg({'cluster':'count'})['cluster'].values\n",
    "    \n",
    "    cluster_names_2 = list(df_clusters_grouped_1.groupby('cluster').agg({'cluster':'count'})['cluster'].index)\n",
    "    cluster_sizes_2 = df_clusters_grouped_1.groupby('cluster').agg({'cluster':'count'})['cluster'].values\n",
    "    print('Finding all combinations that sum to 9...')\n",
    "    all_combinations_9 = find_combinations(cluster_sizes_2, target_sum=9)\n",
    "    print('Finding all distinct combinations...')\n",
    "    all_combinations_9_unique = find_unique_combinations(all_combinations_9)\n",
    "    print('Finding the best combination...')\n",
    "    best_combination_indexes = get_longest_list(all_combinations_9_unique)\n",
    "    best_combination_names = [[cluster_names_2[idx] for idx in combo_idx] for combo_idx in best_combination_indexes]\n",
    "    df_clusters_grouped_2 = group_clusters(df_clusters_grouped_1, best_combination_names)\n",
    "    cluster_sizes_grouped_2 = df_clusters_grouped_2.groupby('cluster').agg({'cluster':'count'})['cluster'].values\n",
    "    \n",
    "    number_full_tables10 = len(np.where(cluster_sizes_groupped==10)[0])\n",
    "    number_full_tables9 = len(np.where(cluster_sizes_groupped==9)[0])\n",
    "    number_full_tables = number_full_tables10 + number_full_tables9\n",
    "    \n",
    "    if number_full_tables>number_full_tables_opt:\n",
    "        number_full_tables_opt = number_full_tables\n",
    "        best_sizes = cluster_sizes_grouped_2.copy()\n",
    "        df_clusters_best = df_clusters_grouped_2.copy()\n",
    "#     if np.min(cluster_sizes_grouped)>8 and np.max(cluster_sizes_grouped)<12:\n",
    "#         print('Good clusters found')\n",
    "#         found = True\n",
    "#         break\n",
    "print()\n",
    "# if not found:\n",
    "#     print('No good cluster found')\n",
    "print('best cluster sizes: {}'.format(best_sizes))"
   ]
  },
  {
   "cell_type": "code",
   "execution_count": 111,
   "id": "60a64feb",
   "metadata": {},
   "outputs": [],
   "source": [
    "df_clusters_best_adjust = group_clusters(df_clusters_best, [[6,3]]).copy()"
   ]
  },
  {
   "cell_type": "code",
   "execution_count": 112,
   "id": "1782a2ee",
   "metadata": {},
   "outputs": [
    {
     "name": "stdout",
     "output_type": "stream",
     "text": [
      "Table 1: 10 personnes\n",
      "Table 2: 10 personnes\n",
      "Table 3: 10 personnes\n",
      "Table 4: 11 personnes\n",
      "Table 5: 10 personnes\n"
     ]
    }
   ],
   "source": [
    "for idx, cluster_name in enumerate(df_clusters_best_adjust['cluster'].unique()):\n",
    "    print('Table {}: {} personnes'.format(idx+1, df_clusters_best_adjust[df_clusters_best_adjust['cluster']==cluster_name].shape[0]))"
   ]
  },
  {
   "cell_type": "markdown",
   "id": "b27e336e",
   "metadata": {},
   "source": [
    "--> we don't want someone from a group to be alone (e.g. a couple)\n",
    "\n",
    "--> perform new clustering??\n",
    "\n",
    "--> maybe easier to look for more clusters and group them by 10 as much as possible (easier than separating them...)\n",
    "\n",
    "--> maybe help the algo to draw small clusters with another column of affinities\n",
    "\n",
    "--> and simulate on random_state and on n_clusters...\n",
    "\n",
    "\n",
    "The initial number of clusters should be lower than the number of groups of affinities (group 1); otherwise there's no real point using Kmodes...\n",
    "\n",
    "TODO: \n",
    "\n",
    "- if cluster size > 10: recluster until you have size max=10 DONE?\n",
    "- combine groups: don't mix old/young family/friends"
   ]
  },
  {
   "cell_type": "code",
   "execution_count": null,
   "id": "24de017e",
   "metadata": {},
   "outputs": [],
   "source": []
  },
  {
   "cell_type": "code",
   "execution_count": null,
   "id": "86217940",
   "metadata": {},
   "outputs": [],
   "source": []
  },
  {
   "cell_type": "code",
   "execution_count": null,
   "id": "3302604a",
   "metadata": {},
   "outputs": [],
   "source": []
  },
  {
   "cell_type": "code",
   "execution_count": null,
   "id": "9ea05f79",
   "metadata": {},
   "outputs": [],
   "source": []
  },
  {
   "cell_type": "code",
   "execution_count": 180,
   "id": "26c0f45e",
   "metadata": {},
   "outputs": [
    {
     "data": {
      "application/vnd.plotly.v1+json": {
       "config": {
        "plotlyServerURL": "https://plot.ly"
       },
       "data": [
        {
         "error_y": {
          "array": [
           0.7,
           0.4
          ],
          "arrayminus": [
           0.1,
           0.2
          ],
          "symmetric": false,
          "type": "data"
         },
         "type": "bar",
         "x": [
          "Category A",
          "Category B"
         ],
         "y": [
          0.3,
          0.4
         ]
        }
       ],
       "layout": {
        "template": {
         "data": {
          "bar": [
           {
            "error_x": {
             "color": "#2a3f5f"
            },
            "error_y": {
             "color": "#2a3f5f"
            },
            "marker": {
             "line": {
              "color": "#E5ECF6",
              "width": 0.5
             },
             "pattern": {
              "fillmode": "overlay",
              "size": 10,
              "solidity": 0.2
             }
            },
            "type": "bar"
           }
          ],
          "barpolar": [
           {
            "marker": {
             "line": {
              "color": "#E5ECF6",
              "width": 0.5
             },
             "pattern": {
              "fillmode": "overlay",
              "size": 10,
              "solidity": 0.2
             }
            },
            "type": "barpolar"
           }
          ],
          "carpet": [
           {
            "aaxis": {
             "endlinecolor": "#2a3f5f",
             "gridcolor": "white",
             "linecolor": "white",
             "minorgridcolor": "white",
             "startlinecolor": "#2a3f5f"
            },
            "baxis": {
             "endlinecolor": "#2a3f5f",
             "gridcolor": "white",
             "linecolor": "white",
             "minorgridcolor": "white",
             "startlinecolor": "#2a3f5f"
            },
            "type": "carpet"
           }
          ],
          "choropleth": [
           {
            "colorbar": {
             "outlinewidth": 0,
             "ticks": ""
            },
            "type": "choropleth"
           }
          ],
          "contour": [
           {
            "colorbar": {
             "outlinewidth": 0,
             "ticks": ""
            },
            "colorscale": [
             [
              0,
              "#0d0887"
             ],
             [
              0.1111111111111111,
              "#46039f"
             ],
             [
              0.2222222222222222,
              "#7201a8"
             ],
             [
              0.3333333333333333,
              "#9c179e"
             ],
             [
              0.4444444444444444,
              "#bd3786"
             ],
             [
              0.5555555555555556,
              "#d8576b"
             ],
             [
              0.6666666666666666,
              "#ed7953"
             ],
             [
              0.7777777777777778,
              "#fb9f3a"
             ],
             [
              0.8888888888888888,
              "#fdca26"
             ],
             [
              1,
              "#f0f921"
             ]
            ],
            "type": "contour"
           }
          ],
          "contourcarpet": [
           {
            "colorbar": {
             "outlinewidth": 0,
             "ticks": ""
            },
            "type": "contourcarpet"
           }
          ],
          "heatmap": [
           {
            "colorbar": {
             "outlinewidth": 0,
             "ticks": ""
            },
            "colorscale": [
             [
              0,
              "#0d0887"
             ],
             [
              0.1111111111111111,
              "#46039f"
             ],
             [
              0.2222222222222222,
              "#7201a8"
             ],
             [
              0.3333333333333333,
              "#9c179e"
             ],
             [
              0.4444444444444444,
              "#bd3786"
             ],
             [
              0.5555555555555556,
              "#d8576b"
             ],
             [
              0.6666666666666666,
              "#ed7953"
             ],
             [
              0.7777777777777778,
              "#fb9f3a"
             ],
             [
              0.8888888888888888,
              "#fdca26"
             ],
             [
              1,
              "#f0f921"
             ]
            ],
            "type": "heatmap"
           }
          ],
          "heatmapgl": [
           {
            "colorbar": {
             "outlinewidth": 0,
             "ticks": ""
            },
            "colorscale": [
             [
              0,
              "#0d0887"
             ],
             [
              0.1111111111111111,
              "#46039f"
             ],
             [
              0.2222222222222222,
              "#7201a8"
             ],
             [
              0.3333333333333333,
              "#9c179e"
             ],
             [
              0.4444444444444444,
              "#bd3786"
             ],
             [
              0.5555555555555556,
              "#d8576b"
             ],
             [
              0.6666666666666666,
              "#ed7953"
             ],
             [
              0.7777777777777778,
              "#fb9f3a"
             ],
             [
              0.8888888888888888,
              "#fdca26"
             ],
             [
              1,
              "#f0f921"
             ]
            ],
            "type": "heatmapgl"
           }
          ],
          "histogram": [
           {
            "marker": {
             "pattern": {
              "fillmode": "overlay",
              "size": 10,
              "solidity": 0.2
             }
            },
            "type": "histogram"
           }
          ],
          "histogram2d": [
           {
            "colorbar": {
             "outlinewidth": 0,
             "ticks": ""
            },
            "colorscale": [
             [
              0,
              "#0d0887"
             ],
             [
              0.1111111111111111,
              "#46039f"
             ],
             [
              0.2222222222222222,
              "#7201a8"
             ],
             [
              0.3333333333333333,
              "#9c179e"
             ],
             [
              0.4444444444444444,
              "#bd3786"
             ],
             [
              0.5555555555555556,
              "#d8576b"
             ],
             [
              0.6666666666666666,
              "#ed7953"
             ],
             [
              0.7777777777777778,
              "#fb9f3a"
             ],
             [
              0.8888888888888888,
              "#fdca26"
             ],
             [
              1,
              "#f0f921"
             ]
            ],
            "type": "histogram2d"
           }
          ],
          "histogram2dcontour": [
           {
            "colorbar": {
             "outlinewidth": 0,
             "ticks": ""
            },
            "colorscale": [
             [
              0,
              "#0d0887"
             ],
             [
              0.1111111111111111,
              "#46039f"
             ],
             [
              0.2222222222222222,
              "#7201a8"
             ],
             [
              0.3333333333333333,
              "#9c179e"
             ],
             [
              0.4444444444444444,
              "#bd3786"
             ],
             [
              0.5555555555555556,
              "#d8576b"
             ],
             [
              0.6666666666666666,
              "#ed7953"
             ],
             [
              0.7777777777777778,
              "#fb9f3a"
             ],
             [
              0.8888888888888888,
              "#fdca26"
             ],
             [
              1,
              "#f0f921"
             ]
            ],
            "type": "histogram2dcontour"
           }
          ],
          "mesh3d": [
           {
            "colorbar": {
             "outlinewidth": 0,
             "ticks": ""
            },
            "type": "mesh3d"
           }
          ],
          "parcoords": [
           {
            "line": {
             "colorbar": {
              "outlinewidth": 0,
              "ticks": ""
             }
            },
            "type": "parcoords"
           }
          ],
          "pie": [
           {
            "automargin": true,
            "type": "pie"
           }
          ],
          "scatter": [
           {
            "fillpattern": {
             "fillmode": "overlay",
             "size": 10,
             "solidity": 0.2
            },
            "type": "scatter"
           }
          ],
          "scatter3d": [
           {
            "line": {
             "colorbar": {
              "outlinewidth": 0,
              "ticks": ""
             }
            },
            "marker": {
             "colorbar": {
              "outlinewidth": 0,
              "ticks": ""
             }
            },
            "type": "scatter3d"
           }
          ],
          "scattercarpet": [
           {
            "marker": {
             "colorbar": {
              "outlinewidth": 0,
              "ticks": ""
             }
            },
            "type": "scattercarpet"
           }
          ],
          "scattergeo": [
           {
            "marker": {
             "colorbar": {
              "outlinewidth": 0,
              "ticks": ""
             }
            },
            "type": "scattergeo"
           }
          ],
          "scattergl": [
           {
            "marker": {
             "colorbar": {
              "outlinewidth": 0,
              "ticks": ""
             }
            },
            "type": "scattergl"
           }
          ],
          "scattermapbox": [
           {
            "marker": {
             "colorbar": {
              "outlinewidth": 0,
              "ticks": ""
             }
            },
            "type": "scattermapbox"
           }
          ],
          "scatterpolar": [
           {
            "marker": {
             "colorbar": {
              "outlinewidth": 0,
              "ticks": ""
             }
            },
            "type": "scatterpolar"
           }
          ],
          "scatterpolargl": [
           {
            "marker": {
             "colorbar": {
              "outlinewidth": 0,
              "ticks": ""
             }
            },
            "type": "scatterpolargl"
           }
          ],
          "scatterternary": [
           {
            "marker": {
             "colorbar": {
              "outlinewidth": 0,
              "ticks": ""
             }
            },
            "type": "scatterternary"
           }
          ],
          "surface": [
           {
            "colorbar": {
             "outlinewidth": 0,
             "ticks": ""
            },
            "colorscale": [
             [
              0,
              "#0d0887"
             ],
             [
              0.1111111111111111,
              "#46039f"
             ],
             [
              0.2222222222222222,
              "#7201a8"
             ],
             [
              0.3333333333333333,
              "#9c179e"
             ],
             [
              0.4444444444444444,
              "#bd3786"
             ],
             [
              0.5555555555555556,
              "#d8576b"
             ],
             [
              0.6666666666666666,
              "#ed7953"
             ],
             [
              0.7777777777777778,
              "#fb9f3a"
             ],
             [
              0.8888888888888888,
              "#fdca26"
             ],
             [
              1,
              "#f0f921"
             ]
            ],
            "type": "surface"
           }
          ],
          "table": [
           {
            "cells": {
             "fill": {
              "color": "#EBF0F8"
             },
             "line": {
              "color": "white"
             }
            },
            "header": {
             "fill": {
              "color": "#C8D4E3"
             },
             "line": {
              "color": "white"
             }
            },
            "type": "table"
           }
          ]
         },
         "layout": {
          "annotationdefaults": {
           "arrowcolor": "#2a3f5f",
           "arrowhead": 0,
           "arrowwidth": 1
          },
          "autotypenumbers": "strict",
          "coloraxis": {
           "colorbar": {
            "outlinewidth": 0,
            "ticks": ""
           }
          },
          "colorscale": {
           "diverging": [
            [
             0,
             "#8e0152"
            ],
            [
             0.1,
             "#c51b7d"
            ],
            [
             0.2,
             "#de77ae"
            ],
            [
             0.3,
             "#f1b6da"
            ],
            [
             0.4,
             "#fde0ef"
            ],
            [
             0.5,
             "#f7f7f7"
            ],
            [
             0.6,
             "#e6f5d0"
            ],
            [
             0.7,
             "#b8e186"
            ],
            [
             0.8,
             "#7fbc41"
            ],
            [
             0.9,
             "#4d9221"
            ],
            [
             1,
             "#276419"
            ]
           ],
           "sequential": [
            [
             0,
             "#0d0887"
            ],
            [
             0.1111111111111111,
             "#46039f"
            ],
            [
             0.2222222222222222,
             "#7201a8"
            ],
            [
             0.3333333333333333,
             "#9c179e"
            ],
            [
             0.4444444444444444,
             "#bd3786"
            ],
            [
             0.5555555555555556,
             "#d8576b"
            ],
            [
             0.6666666666666666,
             "#ed7953"
            ],
            [
             0.7777777777777778,
             "#fb9f3a"
            ],
            [
             0.8888888888888888,
             "#fdca26"
            ],
            [
             1,
             "#f0f921"
            ]
           ],
           "sequentialminus": [
            [
             0,
             "#0d0887"
            ],
            [
             0.1111111111111111,
             "#46039f"
            ],
            [
             0.2222222222222222,
             "#7201a8"
            ],
            [
             0.3333333333333333,
             "#9c179e"
            ],
            [
             0.4444444444444444,
             "#bd3786"
            ],
            [
             0.5555555555555556,
             "#d8576b"
            ],
            [
             0.6666666666666666,
             "#ed7953"
            ],
            [
             0.7777777777777778,
             "#fb9f3a"
            ],
            [
             0.8888888888888888,
             "#fdca26"
            ],
            [
             1,
             "#f0f921"
            ]
           ]
          },
          "colorway": [
           "#636efa",
           "#EF553B",
           "#00cc96",
           "#ab63fa",
           "#FFA15A",
           "#19d3f3",
           "#FF6692",
           "#B6E880",
           "#FF97FF",
           "#FECB52"
          ],
          "font": {
           "color": "#2a3f5f"
          },
          "geo": {
           "bgcolor": "white",
           "lakecolor": "white",
           "landcolor": "#E5ECF6",
           "showlakes": true,
           "showland": true,
           "subunitcolor": "white"
          },
          "hoverlabel": {
           "align": "left"
          },
          "hovermode": "closest",
          "mapbox": {
           "style": "light"
          },
          "paper_bgcolor": "white",
          "plot_bgcolor": "#E5ECF6",
          "polar": {
           "angularaxis": {
            "gridcolor": "white",
            "linecolor": "white",
            "ticks": ""
           },
           "bgcolor": "#E5ECF6",
           "radialaxis": {
            "gridcolor": "white",
            "linecolor": "white",
            "ticks": ""
           }
          },
          "scene": {
           "xaxis": {
            "backgroundcolor": "#E5ECF6",
            "gridcolor": "white",
            "gridwidth": 2,
            "linecolor": "white",
            "showbackground": true,
            "ticks": "",
            "zerolinecolor": "white"
           },
           "yaxis": {
            "backgroundcolor": "#E5ECF6",
            "gridcolor": "white",
            "gridwidth": 2,
            "linecolor": "white",
            "showbackground": true,
            "ticks": "",
            "zerolinecolor": "white"
           },
           "zaxis": {
            "backgroundcolor": "#E5ECF6",
            "gridcolor": "white",
            "gridwidth": 2,
            "linecolor": "white",
            "showbackground": true,
            "ticks": "",
            "zerolinecolor": "white"
           }
          },
          "shapedefaults": {
           "line": {
            "color": "#2a3f5f"
           }
          },
          "ternary": {
           "aaxis": {
            "gridcolor": "white",
            "linecolor": "white",
            "ticks": ""
           },
           "baxis": {
            "gridcolor": "white",
            "linecolor": "white",
            "ticks": ""
           },
           "bgcolor": "#E5ECF6",
           "caxis": {
            "gridcolor": "white",
            "linecolor": "white",
            "ticks": ""
           }
          },
          "title": {
           "x": 0.05
          },
          "xaxis": {
           "automargin": true,
           "gridcolor": "white",
           "linecolor": "white",
           "ticks": "",
           "title": {
            "standoff": 15
           },
           "zerolinecolor": "white",
           "zerolinewidth": 2
          },
          "yaxis": {
           "automargin": true,
           "gridcolor": "white",
           "linecolor": "white",
           "ticks": "",
           "title": {
            "standoff": 15
           },
           "zerolinecolor": "white",
           "zerolinewidth": 2
          }
         }
        },
        "title": {
         "text": "Bar Chart with Custom Error Intervals"
        },
        "xaxis": {
         "title": {
          "text": "Category"
         }
        },
        "yaxis": {
         "title": {
          "text": "Value"
         }
        }
       }
      },
      "text/html": [
       "<div>                            <div id=\"c17d3670-23cb-4bd9-b275-71a9733c17af\" class=\"plotly-graph-div\" style=\"height:525px; width:100%;\"></div>            <script type=\"text/javascript\">                require([\"plotly\"], function(Plotly) {                    window.PLOTLYENV=window.PLOTLYENV || {};                                    if (document.getElementById(\"c17d3670-23cb-4bd9-b275-71a9733c17af\")) {                    Plotly.newPlot(                        \"c17d3670-23cb-4bd9-b275-71a9733c17af\",                        [{\"error_y\":{\"array\":[0.7,0.4],\"arrayminus\":[0.1,0.2],\"symmetric\":false,\"type\":\"data\"},\"x\":[\"Category A\",\"Category B\"],\"y\":[0.3,0.4],\"type\":\"bar\"}],                        {\"title\":{\"text\":\"Bar Chart with Custom Error Intervals\"},\"xaxis\":{\"title\":{\"text\":\"Category\"}},\"yaxis\":{\"title\":{\"text\":\"Value\"}},\"template\":{\"data\":{\"histogram2dcontour\":[{\"type\":\"histogram2dcontour\",\"colorbar\":{\"outlinewidth\":0,\"ticks\":\"\"},\"colorscale\":[[0.0,\"#0d0887\"],[0.1111111111111111,\"#46039f\"],[0.2222222222222222,\"#7201a8\"],[0.3333333333333333,\"#9c179e\"],[0.4444444444444444,\"#bd3786\"],[0.5555555555555556,\"#d8576b\"],[0.6666666666666666,\"#ed7953\"],[0.7777777777777778,\"#fb9f3a\"],[0.8888888888888888,\"#fdca26\"],[1.0,\"#f0f921\"]]}],\"choropleth\":[{\"type\":\"choropleth\",\"colorbar\":{\"outlinewidth\":0,\"ticks\":\"\"}}],\"histogram2d\":[{\"type\":\"histogram2d\",\"colorbar\":{\"outlinewidth\":0,\"ticks\":\"\"},\"colorscale\":[[0.0,\"#0d0887\"],[0.1111111111111111,\"#46039f\"],[0.2222222222222222,\"#7201a8\"],[0.3333333333333333,\"#9c179e\"],[0.4444444444444444,\"#bd3786\"],[0.5555555555555556,\"#d8576b\"],[0.6666666666666666,\"#ed7953\"],[0.7777777777777778,\"#fb9f3a\"],[0.8888888888888888,\"#fdca26\"],[1.0,\"#f0f921\"]]}],\"heatmap\":[{\"type\":\"heatmap\",\"colorbar\":{\"outlinewidth\":0,\"ticks\":\"\"},\"colorscale\":[[0.0,\"#0d0887\"],[0.1111111111111111,\"#46039f\"],[0.2222222222222222,\"#7201a8\"],[0.3333333333333333,\"#9c179e\"],[0.4444444444444444,\"#bd3786\"],[0.5555555555555556,\"#d8576b\"],[0.6666666666666666,\"#ed7953\"],[0.7777777777777778,\"#fb9f3a\"],[0.8888888888888888,\"#fdca26\"],[1.0,\"#f0f921\"]]}],\"heatmapgl\":[{\"type\":\"heatmapgl\",\"colorbar\":{\"outlinewidth\":0,\"ticks\":\"\"},\"colorscale\":[[0.0,\"#0d0887\"],[0.1111111111111111,\"#46039f\"],[0.2222222222222222,\"#7201a8\"],[0.3333333333333333,\"#9c179e\"],[0.4444444444444444,\"#bd3786\"],[0.5555555555555556,\"#d8576b\"],[0.6666666666666666,\"#ed7953\"],[0.7777777777777778,\"#fb9f3a\"],[0.8888888888888888,\"#fdca26\"],[1.0,\"#f0f921\"]]}],\"contourcarpet\":[{\"type\":\"contourcarpet\",\"colorbar\":{\"outlinewidth\":0,\"ticks\":\"\"}}],\"contour\":[{\"type\":\"contour\",\"colorbar\":{\"outlinewidth\":0,\"ticks\":\"\"},\"colorscale\":[[0.0,\"#0d0887\"],[0.1111111111111111,\"#46039f\"],[0.2222222222222222,\"#7201a8\"],[0.3333333333333333,\"#9c179e\"],[0.4444444444444444,\"#bd3786\"],[0.5555555555555556,\"#d8576b\"],[0.6666666666666666,\"#ed7953\"],[0.7777777777777778,\"#fb9f3a\"],[0.8888888888888888,\"#fdca26\"],[1.0,\"#f0f921\"]]}],\"surface\":[{\"type\":\"surface\",\"colorbar\":{\"outlinewidth\":0,\"ticks\":\"\"},\"colorscale\":[[0.0,\"#0d0887\"],[0.1111111111111111,\"#46039f\"],[0.2222222222222222,\"#7201a8\"],[0.3333333333333333,\"#9c179e\"],[0.4444444444444444,\"#bd3786\"],[0.5555555555555556,\"#d8576b\"],[0.6666666666666666,\"#ed7953\"],[0.7777777777777778,\"#fb9f3a\"],[0.8888888888888888,\"#fdca26\"],[1.0,\"#f0f921\"]]}],\"mesh3d\":[{\"type\":\"mesh3d\",\"colorbar\":{\"outlinewidth\":0,\"ticks\":\"\"}}],\"scatter\":[{\"fillpattern\":{\"fillmode\":\"overlay\",\"size\":10,\"solidity\":0.2},\"type\":\"scatter\"}],\"parcoords\":[{\"type\":\"parcoords\",\"line\":{\"colorbar\":{\"outlinewidth\":0,\"ticks\":\"\"}}}],\"scatterpolargl\":[{\"type\":\"scatterpolargl\",\"marker\":{\"colorbar\":{\"outlinewidth\":0,\"ticks\":\"\"}}}],\"bar\":[{\"error_x\":{\"color\":\"#2a3f5f\"},\"error_y\":{\"color\":\"#2a3f5f\"},\"marker\":{\"line\":{\"color\":\"#E5ECF6\",\"width\":0.5},\"pattern\":{\"fillmode\":\"overlay\",\"size\":10,\"solidity\":0.2}},\"type\":\"bar\"}],\"scattergeo\":[{\"type\":\"scattergeo\",\"marker\":{\"colorbar\":{\"outlinewidth\":0,\"ticks\":\"\"}}}],\"scatterpolar\":[{\"type\":\"scatterpolar\",\"marker\":{\"colorbar\":{\"outlinewidth\":0,\"ticks\":\"\"}}}],\"histogram\":[{\"marker\":{\"pattern\":{\"fillmode\":\"overlay\",\"size\":10,\"solidity\":0.2}},\"type\":\"histogram\"}],\"scattergl\":[{\"type\":\"scattergl\",\"marker\":{\"colorbar\":{\"outlinewidth\":0,\"ticks\":\"\"}}}],\"scatter3d\":[{\"type\":\"scatter3d\",\"line\":{\"colorbar\":{\"outlinewidth\":0,\"ticks\":\"\"}},\"marker\":{\"colorbar\":{\"outlinewidth\":0,\"ticks\":\"\"}}}],\"scattermapbox\":[{\"type\":\"scattermapbox\",\"marker\":{\"colorbar\":{\"outlinewidth\":0,\"ticks\":\"\"}}}],\"scatterternary\":[{\"type\":\"scatterternary\",\"marker\":{\"colorbar\":{\"outlinewidth\":0,\"ticks\":\"\"}}}],\"scattercarpet\":[{\"type\":\"scattercarpet\",\"marker\":{\"colorbar\":{\"outlinewidth\":0,\"ticks\":\"\"}}}],\"carpet\":[{\"aaxis\":{\"endlinecolor\":\"#2a3f5f\",\"gridcolor\":\"white\",\"linecolor\":\"white\",\"minorgridcolor\":\"white\",\"startlinecolor\":\"#2a3f5f\"},\"baxis\":{\"endlinecolor\":\"#2a3f5f\",\"gridcolor\":\"white\",\"linecolor\":\"white\",\"minorgridcolor\":\"white\",\"startlinecolor\":\"#2a3f5f\"},\"type\":\"carpet\"}],\"table\":[{\"cells\":{\"fill\":{\"color\":\"#EBF0F8\"},\"line\":{\"color\":\"white\"}},\"header\":{\"fill\":{\"color\":\"#C8D4E3\"},\"line\":{\"color\":\"white\"}},\"type\":\"table\"}],\"barpolar\":[{\"marker\":{\"line\":{\"color\":\"#E5ECF6\",\"width\":0.5},\"pattern\":{\"fillmode\":\"overlay\",\"size\":10,\"solidity\":0.2}},\"type\":\"barpolar\"}],\"pie\":[{\"automargin\":true,\"type\":\"pie\"}]},\"layout\":{\"autotypenumbers\":\"strict\",\"colorway\":[\"#636efa\",\"#EF553B\",\"#00cc96\",\"#ab63fa\",\"#FFA15A\",\"#19d3f3\",\"#FF6692\",\"#B6E880\",\"#FF97FF\",\"#FECB52\"],\"font\":{\"color\":\"#2a3f5f\"},\"hovermode\":\"closest\",\"hoverlabel\":{\"align\":\"left\"},\"paper_bgcolor\":\"white\",\"plot_bgcolor\":\"#E5ECF6\",\"polar\":{\"bgcolor\":\"#E5ECF6\",\"angularaxis\":{\"gridcolor\":\"white\",\"linecolor\":\"white\",\"ticks\":\"\"},\"radialaxis\":{\"gridcolor\":\"white\",\"linecolor\":\"white\",\"ticks\":\"\"}},\"ternary\":{\"bgcolor\":\"#E5ECF6\",\"aaxis\":{\"gridcolor\":\"white\",\"linecolor\":\"white\",\"ticks\":\"\"},\"baxis\":{\"gridcolor\":\"white\",\"linecolor\":\"white\",\"ticks\":\"\"},\"caxis\":{\"gridcolor\":\"white\",\"linecolor\":\"white\",\"ticks\":\"\"}},\"coloraxis\":{\"colorbar\":{\"outlinewidth\":0,\"ticks\":\"\"}},\"colorscale\":{\"sequential\":[[0.0,\"#0d0887\"],[0.1111111111111111,\"#46039f\"],[0.2222222222222222,\"#7201a8\"],[0.3333333333333333,\"#9c179e\"],[0.4444444444444444,\"#bd3786\"],[0.5555555555555556,\"#d8576b\"],[0.6666666666666666,\"#ed7953\"],[0.7777777777777778,\"#fb9f3a\"],[0.8888888888888888,\"#fdca26\"],[1.0,\"#f0f921\"]],\"sequentialminus\":[[0.0,\"#0d0887\"],[0.1111111111111111,\"#46039f\"],[0.2222222222222222,\"#7201a8\"],[0.3333333333333333,\"#9c179e\"],[0.4444444444444444,\"#bd3786\"],[0.5555555555555556,\"#d8576b\"],[0.6666666666666666,\"#ed7953\"],[0.7777777777777778,\"#fb9f3a\"],[0.8888888888888888,\"#fdca26\"],[1.0,\"#f0f921\"]],\"diverging\":[[0,\"#8e0152\"],[0.1,\"#c51b7d\"],[0.2,\"#de77ae\"],[0.3,\"#f1b6da\"],[0.4,\"#fde0ef\"],[0.5,\"#f7f7f7\"],[0.6,\"#e6f5d0\"],[0.7,\"#b8e186\"],[0.8,\"#7fbc41\"],[0.9,\"#4d9221\"],[1,\"#276419\"]]},\"xaxis\":{\"gridcolor\":\"white\",\"linecolor\":\"white\",\"ticks\":\"\",\"title\":{\"standoff\":15},\"zerolinecolor\":\"white\",\"automargin\":true,\"zerolinewidth\":2},\"yaxis\":{\"gridcolor\":\"white\",\"linecolor\":\"white\",\"ticks\":\"\",\"title\":{\"standoff\":15},\"zerolinecolor\":\"white\",\"automargin\":true,\"zerolinewidth\":2},\"scene\":{\"xaxis\":{\"backgroundcolor\":\"#E5ECF6\",\"gridcolor\":\"white\",\"linecolor\":\"white\",\"showbackground\":true,\"ticks\":\"\",\"zerolinecolor\":\"white\",\"gridwidth\":2},\"yaxis\":{\"backgroundcolor\":\"#E5ECF6\",\"gridcolor\":\"white\",\"linecolor\":\"white\",\"showbackground\":true,\"ticks\":\"\",\"zerolinecolor\":\"white\",\"gridwidth\":2},\"zaxis\":{\"backgroundcolor\":\"#E5ECF6\",\"gridcolor\":\"white\",\"linecolor\":\"white\",\"showbackground\":true,\"ticks\":\"\",\"zerolinecolor\":\"white\",\"gridwidth\":2}},\"shapedefaults\":{\"line\":{\"color\":\"#2a3f5f\"}},\"annotationdefaults\":{\"arrowcolor\":\"#2a3f5f\",\"arrowhead\":0,\"arrowwidth\":1},\"geo\":{\"bgcolor\":\"white\",\"landcolor\":\"#E5ECF6\",\"subunitcolor\":\"white\",\"showland\":true,\"showlakes\":true,\"lakecolor\":\"white\"},\"title\":{\"x\":0.05},\"mapbox\":{\"style\":\"light\"}}}},                        {\"responsive\": true}                    ).then(function(){\n",
       "                            \n",
       "var gd = document.getElementById('c17d3670-23cb-4bd9-b275-71a9733c17af');\n",
       "var x = new MutationObserver(function (mutations, observer) {{\n",
       "        var display = window.getComputedStyle(gd).display;\n",
       "        if (!display || display === 'none') {{\n",
       "            console.log([gd, 'removed!']);\n",
       "            Plotly.purge(gd);\n",
       "            observer.disconnect();\n",
       "        }}\n",
       "}});\n",
       "\n",
       "// Listen for the removal of the full notebook cells\n",
       "var notebookContainer = gd.closest('#notebook-container');\n",
       "if (notebookContainer) {{\n",
       "    x.observe(notebookContainer, {childList: true});\n",
       "}}\n",
       "\n",
       "// Listen for the clearing of the current output cell\n",
       "var outputEl = gd.closest('.output');\n",
       "if (outputEl) {{\n",
       "    x.observe(outputEl, {childList: true});\n",
       "}}\n",
       "\n",
       "                        })                };                });            </script>        </div>"
      ]
     },
     "metadata": {},
     "output_type": "display_data"
    }
   ],
   "source": [
    "import plotly.graph_objects as go\n",
    "\n",
    "# Data for the bar chart\n",
    "categories = ['Category A', 'Category B']\n",
    "values = [0.3, 0.4]\n",
    "error_min = [0.1, 0.2]\n",
    "error_max = [0.7, 0.4]\n",
    "\n",
    "# Create the bar trace with error bars\n",
    "trace = go.Bar(\n",
    "    x=categories,\n",
    "    y=values,\n",
    "    error_y=dict(\n",
    "        type='data',  # Set error type to data\n",
    "        symmetric=False,  # Asymmetric error bars\n",
    "        array=error_max,  # Positive error values\n",
    "        arrayminus=error_min  # Negative error values\n",
    "    )\n",
    ")\n",
    "\n",
    "# Layout configuration\n",
    "layout = go.Layout(\n",
    "    title='Bar Chart with Custom Error Intervals',\n",
    "    yaxis=dict(title='Value'),\n",
    "    xaxis=dict(title='Category')\n",
    ")\n",
    "\n",
    "# Create the figure\n",
    "fig = go.Figure(data=[trace], layout=layout)\n",
    "\n",
    "# Show the figure\n",
    "fig.show()\n"
   ]
  }
 ],
 "metadata": {
  "kernelspec": {
   "display_name": "Python 3 (ipykernel)",
   "language": "python",
   "name": "python3"
  },
  "language_info": {
   "codemirror_mode": {
    "name": "ipython",
    "version": 3
   },
   "file_extension": ".py",
   "mimetype": "text/x-python",
   "name": "python",
   "nbconvert_exporter": "python",
   "pygments_lexer": "ipython3",
   "version": "3.8.8"
  }
 },
 "nbformat": 4,
 "nbformat_minor": 5
}
